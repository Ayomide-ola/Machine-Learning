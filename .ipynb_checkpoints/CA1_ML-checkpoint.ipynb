{
 "cells": [
  {
   "cell_type": "markdown",
   "id": "4634077c",
   "metadata": {},
   "source": [
    "## Goals\n",
    "1. What are the most important features for predicting X as a target variable?\n",
    "2. Which classification approach do you prefer for the prediction of X as a target variable, and why?\n",
    "3. Why is dimensionality reduction important in machine learning?"
   ]
  },
  {
   "cell_type": "markdown",
   "id": "709a3b61",
   "metadata": {},
   "source": [
    "## Understanding data variables\n",
    "### Content\n",
    "The dataset was provided by the Mexican government (link). This dataset contains an enormous number of anonymized patient-related information including pre-conditions. The raw dataset consists of 21 unique features and 1,048,576 unique patients. In the Boolean features, 1 means \"yes\" and 2 means \"no\". values as 97 and 99 are missing data.\n",
    "\n",
    "1. sex: 1 for female and 2 for male.\n",
    "2. age: of the patient.\n",
    "3. classification: covid test findings. Values 1-3 mean that the patient was diagnosed with covid in different\n",
    "   degrees. 4 or higher means that the patient is not a carrier of covid or that the test is inconclusive.\n",
    "4. patient type: type of care the patient received in the unit. 1 for returned home and 2 for hospitalization.\n",
    "5. pneumonia: whether the patient already have air sacs inflammation or not.\n",
    "6. pregnancy: whether the patient is pregnant or not.\n",
    "7. diabetes: whether the patient has diabetes or not.\n",
    "8. copd: Indicates whether the patient has Chronic obstructive pulmonary disease or not.\n",
    "9. asthma: whether the patient has asthma or not.\n",
    "10. inmsupr: whether the patient is immunosuppressed or not.\n",
    "11. hypertension: whether the patient has hypertension or not.\n",
    "12. cardiovascular: whether the patient has heart or blood vessels related disease.\n",
    "13. renal chronic: whether the patient has chronic renal disease or not.\n",
    "14. other disease: whether the patient has other disease or not.\n",
    "15. obesity: whether the patient is obese or not.\n",
    "16. tobacco: whether the patient is a tobacco user.\n",
    "17. usmr: Indicates whether the patient treated medical units of the first, second or third level.\n",
    "18. medical unit: type of institution of the National Health System that provided the care.\n",
    "19. intubed: whether the patient was connected to the ventilator.\n",
    "20. icu: Indicates whether the patient had been admitted to an Intensive Care Unit.\n",
    "21. date died: If the patient died indicate the date of death, and 9999-99-99 otherwise.\n"
   ]
  },
  {
   "cell_type": "markdown",
   "id": "cc34f540",
   "metadata": {},
   "source": [
    "## Reading covid dataset to pandas dataframe"
   ]
  },
  {
   "cell_type": "code",
   "execution_count": 1,
   "id": "4ef061f1",
   "metadata": {},
   "outputs": [],
   "source": [
    "import pandas as pd # Helps to work with pandas dataframe\n",
    "import seaborn as sns # Help with visualisation \n",
    "import matplotlib.pyplot as plt # Helps with visualization\n",
    "import numpy as np # Helps to work with numbers and arrithmetic operation\n",
    "import warnings\n",
    "warnings.filterwarnings('ignore')"
   ]
  },
  {
   "cell_type": "code",
   "execution_count": 2,
   "id": "307a7d73",
   "metadata": {},
   "outputs": [
    {
     "data": {
      "text/html": [
       "<div>\n",
       "<style scoped>\n",
       "    .dataframe tbody tr th:only-of-type {\n",
       "        vertical-align: middle;\n",
       "    }\n",
       "\n",
       "    .dataframe tbody tr th {\n",
       "        vertical-align: top;\n",
       "    }\n",
       "\n",
       "    .dataframe thead th {\n",
       "        text-align: right;\n",
       "    }\n",
       "</style>\n",
       "<table border=\"1\" class=\"dataframe\">\n",
       "  <thead>\n",
       "    <tr style=\"text-align: right;\">\n",
       "      <th></th>\n",
       "      <th>USMER</th>\n",
       "      <th>MEDICAL_UNIT</th>\n",
       "      <th>SEX</th>\n",
       "      <th>PATIENT_TYPE</th>\n",
       "      <th>DATE_DIED</th>\n",
       "      <th>INTUBED</th>\n",
       "      <th>PNEUMONIA</th>\n",
       "      <th>AGE</th>\n",
       "      <th>PREGNANT</th>\n",
       "      <th>DIABETES</th>\n",
       "      <th>...</th>\n",
       "      <th>ASTHMA</th>\n",
       "      <th>INMSUPR</th>\n",
       "      <th>HIPERTENSION</th>\n",
       "      <th>OTHER_DISEASE</th>\n",
       "      <th>CARDIOVASCULAR</th>\n",
       "      <th>OBESITY</th>\n",
       "      <th>RENAL_CHRONIC</th>\n",
       "      <th>TOBACCO</th>\n",
       "      <th>CLASIFFICATION_FINAL</th>\n",
       "      <th>ICU</th>\n",
       "    </tr>\n",
       "  </thead>\n",
       "  <tbody>\n",
       "    <tr>\n",
       "      <th>0</th>\n",
       "      <td>2</td>\n",
       "      <td>1</td>\n",
       "      <td>1</td>\n",
       "      <td>1</td>\n",
       "      <td>03/05/2020</td>\n",
       "      <td>97</td>\n",
       "      <td>1</td>\n",
       "      <td>65</td>\n",
       "      <td>2</td>\n",
       "      <td>2</td>\n",
       "      <td>...</td>\n",
       "      <td>2</td>\n",
       "      <td>2</td>\n",
       "      <td>1</td>\n",
       "      <td>2</td>\n",
       "      <td>2</td>\n",
       "      <td>2</td>\n",
       "      <td>2</td>\n",
       "      <td>2</td>\n",
       "      <td>3</td>\n",
       "      <td>97</td>\n",
       "    </tr>\n",
       "    <tr>\n",
       "      <th>1</th>\n",
       "      <td>2</td>\n",
       "      <td>1</td>\n",
       "      <td>2</td>\n",
       "      <td>1</td>\n",
       "      <td>03/06/2020</td>\n",
       "      <td>97</td>\n",
       "      <td>1</td>\n",
       "      <td>72</td>\n",
       "      <td>97</td>\n",
       "      <td>2</td>\n",
       "      <td>...</td>\n",
       "      <td>2</td>\n",
       "      <td>2</td>\n",
       "      <td>1</td>\n",
       "      <td>2</td>\n",
       "      <td>2</td>\n",
       "      <td>1</td>\n",
       "      <td>1</td>\n",
       "      <td>2</td>\n",
       "      <td>5</td>\n",
       "      <td>97</td>\n",
       "    </tr>\n",
       "    <tr>\n",
       "      <th>2</th>\n",
       "      <td>2</td>\n",
       "      <td>1</td>\n",
       "      <td>2</td>\n",
       "      <td>2</td>\n",
       "      <td>09/06/2020</td>\n",
       "      <td>1</td>\n",
       "      <td>2</td>\n",
       "      <td>55</td>\n",
       "      <td>97</td>\n",
       "      <td>1</td>\n",
       "      <td>...</td>\n",
       "      <td>2</td>\n",
       "      <td>2</td>\n",
       "      <td>2</td>\n",
       "      <td>2</td>\n",
       "      <td>2</td>\n",
       "      <td>2</td>\n",
       "      <td>2</td>\n",
       "      <td>2</td>\n",
       "      <td>3</td>\n",
       "      <td>2</td>\n",
       "    </tr>\n",
       "    <tr>\n",
       "      <th>3</th>\n",
       "      <td>2</td>\n",
       "      <td>1</td>\n",
       "      <td>1</td>\n",
       "      <td>1</td>\n",
       "      <td>12/06/2020</td>\n",
       "      <td>97</td>\n",
       "      <td>2</td>\n",
       "      <td>53</td>\n",
       "      <td>2</td>\n",
       "      <td>2</td>\n",
       "      <td>...</td>\n",
       "      <td>2</td>\n",
       "      <td>2</td>\n",
       "      <td>2</td>\n",
       "      <td>2</td>\n",
       "      <td>2</td>\n",
       "      <td>2</td>\n",
       "      <td>2</td>\n",
       "      <td>2</td>\n",
       "      <td>7</td>\n",
       "      <td>97</td>\n",
       "    </tr>\n",
       "    <tr>\n",
       "      <th>4</th>\n",
       "      <td>2</td>\n",
       "      <td>1</td>\n",
       "      <td>2</td>\n",
       "      <td>1</td>\n",
       "      <td>21/06/2020</td>\n",
       "      <td>97</td>\n",
       "      <td>2</td>\n",
       "      <td>68</td>\n",
       "      <td>97</td>\n",
       "      <td>1</td>\n",
       "      <td>...</td>\n",
       "      <td>2</td>\n",
       "      <td>2</td>\n",
       "      <td>1</td>\n",
       "      <td>2</td>\n",
       "      <td>2</td>\n",
       "      <td>2</td>\n",
       "      <td>2</td>\n",
       "      <td>2</td>\n",
       "      <td>3</td>\n",
       "      <td>97</td>\n",
       "    </tr>\n",
       "  </tbody>\n",
       "</table>\n",
       "<p>5 rows × 21 columns</p>\n",
       "</div>"
      ],
      "text/plain": [
       "   USMER  MEDICAL_UNIT  SEX  PATIENT_TYPE   DATE_DIED  INTUBED  PNEUMONIA  \\\n",
       "0      2             1    1             1  03/05/2020       97          1   \n",
       "1      2             1    2             1  03/06/2020       97          1   \n",
       "2      2             1    2             2  09/06/2020        1          2   \n",
       "3      2             1    1             1  12/06/2020       97          2   \n",
       "4      2             1    2             1  21/06/2020       97          2   \n",
       "\n",
       "   AGE  PREGNANT  DIABETES  ...  ASTHMA  INMSUPR  HIPERTENSION  OTHER_DISEASE  \\\n",
       "0   65         2         2  ...       2        2             1              2   \n",
       "1   72        97         2  ...       2        2             1              2   \n",
       "2   55        97         1  ...       2        2             2              2   \n",
       "3   53         2         2  ...       2        2             2              2   \n",
       "4   68        97         1  ...       2        2             1              2   \n",
       "\n",
       "   CARDIOVASCULAR  OBESITY  RENAL_CHRONIC  TOBACCO  CLASIFFICATION_FINAL  ICU  \n",
       "0               2        2              2        2                     3   97  \n",
       "1               2        1              1        2                     5   97  \n",
       "2               2        2              2        2                     3    2  \n",
       "3               2        2              2        2                     7   97  \n",
       "4               2        2              2        2                     3   97  \n",
       "\n",
       "[5 rows x 21 columns]"
      ]
     },
     "execution_count": 2,
     "metadata": {},
     "output_type": "execute_result"
    }
   ],
   "source": [
    "df= pd.read_csv('Covid Data.csv')\n",
    "df.head()"
   ]
  },
  {
   "cell_type": "code",
   "execution_count": 3,
   "id": "fa19ec2c",
   "metadata": {},
   "outputs": [
    {
     "data": {
      "text/html": [
       "<div>\n",
       "<style scoped>\n",
       "    .dataframe tbody tr th:only-of-type {\n",
       "        vertical-align: middle;\n",
       "    }\n",
       "\n",
       "    .dataframe tbody tr th {\n",
       "        vertical-align: top;\n",
       "    }\n",
       "\n",
       "    .dataframe thead th {\n",
       "        text-align: right;\n",
       "    }\n",
       "</style>\n",
       "<table border=\"1\" class=\"dataframe\">\n",
       "  <thead>\n",
       "    <tr style=\"text-align: right;\">\n",
       "      <th></th>\n",
       "      <th>USMER</th>\n",
       "      <th>MEDICAL_UNIT</th>\n",
       "      <th>SEX</th>\n",
       "      <th>PATIENT_TYPE</th>\n",
       "      <th>DATE_DIED</th>\n",
       "      <th>INTUBED</th>\n",
       "      <th>PNEUMONIA</th>\n",
       "      <th>AGE</th>\n",
       "      <th>PREGNANT</th>\n",
       "      <th>DIABETES</th>\n",
       "      <th>COPD</th>\n",
       "      <th>ASTHMA</th>\n",
       "      <th>INMSUPR</th>\n",
       "      <th>HIPERTENSION</th>\n",
       "      <th>OTHER_DISEASE</th>\n",
       "      <th>CARDIOVASCULAR</th>\n",
       "      <th>OBESITY</th>\n",
       "      <th>RENAL_CHRONIC</th>\n",
       "      <th>TOBACCO</th>\n",
       "      <th>CLASIFFICATION_FINAL</th>\n",
       "      <th>ICU</th>\n",
       "    </tr>\n",
       "  </thead>\n",
       "  <tbody>\n",
       "    <tr>\n",
       "      <th>0</th>\n",
       "      <td>2</td>\n",
       "      <td>1</td>\n",
       "      <td>1</td>\n",
       "      <td>1</td>\n",
       "      <td>03/05/2020</td>\n",
       "      <td>97</td>\n",
       "      <td>1</td>\n",
       "      <td>65</td>\n",
       "      <td>2</td>\n",
       "      <td>2</td>\n",
       "      <td>2</td>\n",
       "      <td>2</td>\n",
       "      <td>2</td>\n",
       "      <td>1</td>\n",
       "      <td>2</td>\n",
       "      <td>2</td>\n",
       "      <td>2</td>\n",
       "      <td>2</td>\n",
       "      <td>2</td>\n",
       "      <td>3</td>\n",
       "      <td>97</td>\n",
       "    </tr>\n",
       "    <tr>\n",
       "      <th>1</th>\n",
       "      <td>2</td>\n",
       "      <td>1</td>\n",
       "      <td>2</td>\n",
       "      <td>1</td>\n",
       "      <td>03/06/2020</td>\n",
       "      <td>97</td>\n",
       "      <td>1</td>\n",
       "      <td>72</td>\n",
       "      <td>97</td>\n",
       "      <td>2</td>\n",
       "      <td>2</td>\n",
       "      <td>2</td>\n",
       "      <td>2</td>\n",
       "      <td>1</td>\n",
       "      <td>2</td>\n",
       "      <td>2</td>\n",
       "      <td>1</td>\n",
       "      <td>1</td>\n",
       "      <td>2</td>\n",
       "      <td>5</td>\n",
       "      <td>97</td>\n",
       "    </tr>\n",
       "    <tr>\n",
       "      <th>2</th>\n",
       "      <td>2</td>\n",
       "      <td>1</td>\n",
       "      <td>2</td>\n",
       "      <td>2</td>\n",
       "      <td>09/06/2020</td>\n",
       "      <td>1</td>\n",
       "      <td>2</td>\n",
       "      <td>55</td>\n",
       "      <td>97</td>\n",
       "      <td>1</td>\n",
       "      <td>2</td>\n",
       "      <td>2</td>\n",
       "      <td>2</td>\n",
       "      <td>2</td>\n",
       "      <td>2</td>\n",
       "      <td>2</td>\n",
       "      <td>2</td>\n",
       "      <td>2</td>\n",
       "      <td>2</td>\n",
       "      <td>3</td>\n",
       "      <td>2</td>\n",
       "    </tr>\n",
       "    <tr>\n",
       "      <th>3</th>\n",
       "      <td>2</td>\n",
       "      <td>1</td>\n",
       "      <td>1</td>\n",
       "      <td>1</td>\n",
       "      <td>12/06/2020</td>\n",
       "      <td>97</td>\n",
       "      <td>2</td>\n",
       "      <td>53</td>\n",
       "      <td>2</td>\n",
       "      <td>2</td>\n",
       "      <td>2</td>\n",
       "      <td>2</td>\n",
       "      <td>2</td>\n",
       "      <td>2</td>\n",
       "      <td>2</td>\n",
       "      <td>2</td>\n",
       "      <td>2</td>\n",
       "      <td>2</td>\n",
       "      <td>2</td>\n",
       "      <td>7</td>\n",
       "      <td>97</td>\n",
       "    </tr>\n",
       "    <tr>\n",
       "      <th>4</th>\n",
       "      <td>2</td>\n",
       "      <td>1</td>\n",
       "      <td>2</td>\n",
       "      <td>1</td>\n",
       "      <td>21/06/2020</td>\n",
       "      <td>97</td>\n",
       "      <td>2</td>\n",
       "      <td>68</td>\n",
       "      <td>97</td>\n",
       "      <td>1</td>\n",
       "      <td>2</td>\n",
       "      <td>2</td>\n",
       "      <td>2</td>\n",
       "      <td>1</td>\n",
       "      <td>2</td>\n",
       "      <td>2</td>\n",
       "      <td>2</td>\n",
       "      <td>2</td>\n",
       "      <td>2</td>\n",
       "      <td>3</td>\n",
       "      <td>97</td>\n",
       "    </tr>\n",
       "  </tbody>\n",
       "</table>\n",
       "</div>"
      ],
      "text/plain": [
       "   USMER  MEDICAL_UNIT  SEX  PATIENT_TYPE   DATE_DIED  INTUBED  PNEUMONIA  \\\n",
       "0      2             1    1             1  03/05/2020       97          1   \n",
       "1      2             1    2             1  03/06/2020       97          1   \n",
       "2      2             1    2             2  09/06/2020        1          2   \n",
       "3      2             1    1             1  12/06/2020       97          2   \n",
       "4      2             1    2             1  21/06/2020       97          2   \n",
       "\n",
       "   AGE  PREGNANT  DIABETES  COPD  ASTHMA  INMSUPR  HIPERTENSION  \\\n",
       "0   65         2         2     2       2        2             1   \n",
       "1   72        97         2     2       2        2             1   \n",
       "2   55        97         1     2       2        2             2   \n",
       "3   53         2         2     2       2        2             2   \n",
       "4   68        97         1     2       2        2             1   \n",
       "\n",
       "   OTHER_DISEASE  CARDIOVASCULAR  OBESITY  RENAL_CHRONIC  TOBACCO  \\\n",
       "0              2               2        2              2        2   \n",
       "1              2               2        1              1        2   \n",
       "2              2               2        2              2        2   \n",
       "3              2               2        2              2        2   \n",
       "4              2               2        2              2        2   \n",
       "\n",
       "   CLASIFFICATION_FINAL  ICU  \n",
       "0                     3   97  \n",
       "1                     5   97  \n",
       "2                     3    2  \n",
       "3                     7   97  \n",
       "4                     3   97  "
      ]
     },
     "execution_count": 3,
     "metadata": {},
     "output_type": "execute_result"
    }
   ],
   "source": [
    "pd.set_option('display.max_columns', None) #This helps to display the entire column in df\n",
    "#pd.set_option('display.max_rows', None)\n",
    "df.head()"
   ]
  },
  {
   "cell_type": "markdown",
   "id": "db1dda4d",
   "metadata": {},
   "source": [
    "## Early data analysis\n",
    "Exploring the nature or dataset"
   ]
  },
  {
   "cell_type": "code",
   "execution_count": 4,
   "id": "002161dd",
   "metadata": {},
   "outputs": [
    {
     "data": {
      "text/plain": [
       "(1048575, 21)"
      ]
     },
     "execution_count": 4,
     "metadata": {},
     "output_type": "execute_result"
    }
   ],
   "source": [
    "df.shape\n",
    "# There are 21 features and 1,048,575 rows"
   ]
  },
  {
   "cell_type": "code",
   "execution_count": 5,
   "id": "6724e8e3",
   "metadata": {},
   "outputs": [
    {
     "data": {
      "text/plain": [
       "812049"
      ]
     },
     "execution_count": 5,
     "metadata": {},
     "output_type": "execute_result"
    }
   ],
   "source": [
    "df.duplicated().sum()"
   ]
  },
  {
   "cell_type": "code",
   "execution_count": 6,
   "id": "cf66fd57",
   "metadata": {},
   "outputs": [
    {
     "name": "stdout",
     "output_type": "stream",
     "text": [
      "<class 'pandas.core.frame.DataFrame'>\n",
      "RangeIndex: 1048575 entries, 0 to 1048574\n",
      "Data columns (total 21 columns):\n",
      " #   Column                Non-Null Count    Dtype \n",
      "---  ------                --------------    ----- \n",
      " 0   USMER                 1048575 non-null  int64 \n",
      " 1   MEDICAL_UNIT          1048575 non-null  int64 \n",
      " 2   SEX                   1048575 non-null  int64 \n",
      " 3   PATIENT_TYPE          1048575 non-null  int64 \n",
      " 4   DATE_DIED             1048575 non-null  object\n",
      " 5   INTUBED               1048575 non-null  int64 \n",
      " 6   PNEUMONIA             1048575 non-null  int64 \n",
      " 7   AGE                   1048575 non-null  int64 \n",
      " 8   PREGNANT              1048575 non-null  int64 \n",
      " 9   DIABETES              1048575 non-null  int64 \n",
      " 10  COPD                  1048575 non-null  int64 \n",
      " 11  ASTHMA                1048575 non-null  int64 \n",
      " 12  INMSUPR               1048575 non-null  int64 \n",
      " 13  HIPERTENSION          1048575 non-null  int64 \n",
      " 14  OTHER_DISEASE         1048575 non-null  int64 \n",
      " 15  CARDIOVASCULAR        1048575 non-null  int64 \n",
      " 16  OBESITY               1048575 non-null  int64 \n",
      " 17  RENAL_CHRONIC         1048575 non-null  int64 \n",
      " 18  TOBACCO               1048575 non-null  int64 \n",
      " 19  CLASIFFICATION_FINAL  1048575 non-null  int64 \n",
      " 20  ICU                   1048575 non-null  int64 \n",
      "dtypes: int64(20), object(1)\n",
      "memory usage: 168.0+ MB\n"
     ]
    }
   ],
   "source": [
    "df.info()"
   ]
  },
  {
   "cell_type": "code",
   "execution_count": 7,
   "id": "596ccede",
   "metadata": {},
   "outputs": [
    {
     "data": {
      "text/plain": [
       "USMER                   0\n",
       "MEDICAL_UNIT            0\n",
       "SEX                     0\n",
       "PATIENT_TYPE            0\n",
       "DATE_DIED               0\n",
       "INTUBED                 0\n",
       "PNEUMONIA               0\n",
       "AGE                     0\n",
       "PREGNANT                0\n",
       "DIABETES                0\n",
       "COPD                    0\n",
       "ASTHMA                  0\n",
       "INMSUPR                 0\n",
       "HIPERTENSION            0\n",
       "OTHER_DISEASE           0\n",
       "CARDIOVASCULAR          0\n",
       "OBESITY                 0\n",
       "RENAL_CHRONIC           0\n",
       "TOBACCO                 0\n",
       "CLASIFFICATION_FINAL    0\n",
       "ICU                     0\n",
       "dtype: int64"
      ]
     },
     "execution_count": 7,
     "metadata": {},
     "output_type": "execute_result"
    }
   ],
   "source": [
    "df.isnull().sum()"
   ]
  },
  {
   "cell_type": "markdown",
   "id": "322513a0",
   "metadata": {},
   "source": [
    "### Null values\n",
    "Though the 'isnull()'method had returned no null values, The dataset litrature however stated that values such as 97, 98, 99.. are used to fill null values and should be treated as null values. \n",
    "\n",
    "To progress, we will count the values in each variable to look for this null values."
   ]
  },
  {
   "cell_type": "code",
   "execution_count": 8,
   "id": "ff2c040e",
   "metadata": {},
   "outputs": [
    {
     "data": {
      "text/plain": [
       "array([ 2, 97, 98,  1], dtype=int64)"
      ]
     },
     "execution_count": 8,
     "metadata": {},
     "output_type": "execute_result"
    }
   ],
   "source": [
    "df['PREGNANT'].unique()\n",
    "# The pregnant hase this values \"97\" and \"98\""
   ]
  },
  {
   "cell_type": "code",
   "execution_count": 9,
   "id": "5aca84c0",
   "metadata": {},
   "outputs": [
    {
     "data": {
      "text/plain": [
       "97    523511\n",
       "2     513179\n",
       "1       8131\n",
       "98      3754\n",
       "Name: PREGNANT, dtype: int64"
      ]
     },
     "execution_count": 9,
     "metadata": {},
     "output_type": "execute_result"
    }
   ],
   "source": [
    "# Now let's count how many of this null values we have in 'pregnant'\n",
    "df['PREGNANT'].value_counts()\n",
    "# As shown there are 527265 null values in the pregnant variables"
   ]
  },
  {
   "cell_type": "code",
   "execution_count": 10,
   "id": "3d465964",
   "metadata": {},
   "outputs": [
    {
     "name": "stdout",
     "output_type": "stream",
     "text": [
      "1048575\n"
     ]
    }
   ],
   "source": [
    "no=[523511,513179,8131,3754]\n",
    "w= sum(no)\n",
    "print(w)"
   ]
  },
  {
   "cell_type": "markdown",
   "id": "5b04f1c4",
   "metadata": {},
   "source": [
    "According to logic, only biological females can get pregnant, and the data literature did not tell us otherwise, so to be able to handle the propotion of non pregant patient, we would value count the gender column and see the number of females and males in them"
   ]
  },
  {
   "cell_type": "code",
   "execution_count": 11,
   "id": "9d21e365",
   "metadata": {},
   "outputs": [
    {
     "data": {
      "text/plain": [
       "array([1, 2], dtype=int64)"
      ]
     },
     "execution_count": 11,
     "metadata": {},
     "output_type": "execute_result"
    }
   ],
   "source": [
    "# 1: Female and 2: Male\n",
    "df['SEX'].unique()"
   ]
  },
  {
   "cell_type": "code",
   "execution_count": 12,
   "id": "5695a17f",
   "metadata": {},
   "outputs": [
    {
     "data": {
      "text/plain": [
       "1    525064\n",
       "2    523511\n",
       "Name: SEX, dtype: int64"
      ]
     },
     "execution_count": 12,
     "metadata": {},
     "output_type": "execute_result"
    }
   ],
   "source": [
    "df['SEX'].value_counts()"
   ]
  },
  {
   "cell_type": "code",
   "execution_count": 13,
   "id": "89b78421",
   "metadata": {},
   "outputs": [],
   "source": [
    "# So according to results there are 523511 male, which is the same null value represented with 97, we would replace 97 with 2\n",
    "df['PREGNANT'].replace(98,1,inplace=True)\n",
    "df['PREGNANT'].replace(97,2,inplace=True) # inplace means replace in the main df"
   ]
  },
  {
   "cell_type": "code",
   "execution_count": 14,
   "id": "66a81808",
   "metadata": {},
   "outputs": [
    {
     "data": {
      "text/plain": [
       "2    1036690\n",
       "1      11885\n",
       "Name: PREGNANT, dtype: int64"
      ]
     },
     "execution_count": 14,
     "metadata": {},
     "output_type": "execute_result"
    }
   ],
   "source": [
    "df['PREGNANT'].value_counts()\n",
    "#2: Non pregnant. This value contain all male patient, and women that were not pregnant too. \n",
    "#1: Pregant. This are the assumed pregnant women. "
   ]
  },
  {
   "cell_type": "code",
   "execution_count": 15,
   "id": "11a7cc82",
   "metadata": {},
   "outputs": [
    {
     "data": {
      "text/plain": [
       "2    662903\n",
       "1    385672\n",
       "Name: USMER, dtype: int64"
      ]
     },
     "execution_count": 15,
     "metadata": {},
     "output_type": "execute_result"
    }
   ],
   "source": [
    "df['USMER'].value_counts()\n",
    "# No null values in Usmer"
   ]
  },
  {
   "cell_type": "code",
   "execution_count": 16,
   "id": "747b749f",
   "metadata": {},
   "outputs": [
    {
     "data": {
      "text/plain": [
       "12    602995\n",
       "4     314405\n",
       "6      40584\n",
       "9      38116\n",
       "3      19175\n",
       "8      10399\n",
       "10      7873\n",
       "5       7244\n",
       "11      5577\n",
       "13       996\n",
       "7        891\n",
       "2        169\n",
       "1        151\n",
       "Name: MEDICAL_UNIT, dtype: int64"
      ]
     },
     "execution_count": 16,
     "metadata": {},
     "output_type": "execute_result"
    }
   ],
   "source": [
    "df['MEDICAL_UNIT'].value_counts()\n",
    "#No null values in the 'medical unit'"
   ]
  },
  {
   "cell_type": "code",
   "execution_count": 17,
   "id": "9fdb239c",
   "metadata": {},
   "outputs": [
    {
     "data": {
      "text/plain": [
       "1    848544\n",
       "2    200031\n",
       "Name: PATIENT_TYPE, dtype: int64"
      ]
     },
     "execution_count": 17,
     "metadata": {},
     "output_type": "execute_result"
    }
   ],
   "source": [
    "df['PATIENT_TYPE'].value_counts()\n",
    "#No null values in the patient type"
   ]
  },
  {
   "cell_type": "code",
   "execution_count": 18,
   "id": "eb9f89c2",
   "metadata": {},
   "outputs": [
    {
     "data": {
      "text/plain": [
       "9999-99-99    971633\n",
       "06/07/2020      1000\n",
       "07/07/2020       996\n",
       "13/07/2020       990\n",
       "16/06/2020       979\n",
       "               ...  \n",
       "24/11/2020         1\n",
       "17/12/2020         1\n",
       "08/12/2020         1\n",
       "16/03/2021         1\n",
       "22/04/2021         1\n",
       "Name: DATE_DIED, Length: 401, dtype: int64"
      ]
     },
     "execution_count": 18,
     "metadata": {},
     "output_type": "execute_result"
    }
   ],
   "source": [
    "df['DATE_DIED'].value_counts()\n",
    "# 9999-99-99: Represent patients that did not die\n",
    "# All other dates represents patient that died\n",
    "# Since this can be categoried into 2 classes, died:1 did not die:2"
   ]
  },
  {
   "cell_type": "code",
   "execution_count": 19,
   "id": "cb1c35e4",
   "metadata": {},
   "outputs": [],
   "source": [
    "# Died= df['DATE_DIED'].value_counts()\n",
    "def get_die(value):\n",
    "    if (value=='9999-99-99'):\n",
    "        return 2\n",
    "    else:\n",
    "        return 1"
   ]
  },
  {
   "cell_type": "code",
   "execution_count": 20,
   "id": "b0e5d32d",
   "metadata": {},
   "outputs": [
    {
     "data": {
      "text/html": [
       "<div>\n",
       "<style scoped>\n",
       "    .dataframe tbody tr th:only-of-type {\n",
       "        vertical-align: middle;\n",
       "    }\n",
       "\n",
       "    .dataframe tbody tr th {\n",
       "        vertical-align: top;\n",
       "    }\n",
       "\n",
       "    .dataframe thead th {\n",
       "        text-align: right;\n",
       "    }\n",
       "</style>\n",
       "<table border=\"1\" class=\"dataframe\">\n",
       "  <thead>\n",
       "    <tr style=\"text-align: right;\">\n",
       "      <th></th>\n",
       "      <th>USMER</th>\n",
       "      <th>MEDICAL_UNIT</th>\n",
       "      <th>SEX</th>\n",
       "      <th>PATIENT_TYPE</th>\n",
       "      <th>DATE_DIED</th>\n",
       "      <th>INTUBED</th>\n",
       "      <th>PNEUMONIA</th>\n",
       "      <th>AGE</th>\n",
       "      <th>PREGNANT</th>\n",
       "      <th>DIABETES</th>\n",
       "      <th>COPD</th>\n",
       "      <th>ASTHMA</th>\n",
       "      <th>INMSUPR</th>\n",
       "      <th>HIPERTENSION</th>\n",
       "      <th>OTHER_DISEASE</th>\n",
       "      <th>CARDIOVASCULAR</th>\n",
       "      <th>OBESITY</th>\n",
       "      <th>RENAL_CHRONIC</th>\n",
       "      <th>TOBACCO</th>\n",
       "      <th>CLASIFFICATION_FINAL</th>\n",
       "      <th>ICU</th>\n",
       "      <th>Died</th>\n",
       "    </tr>\n",
       "  </thead>\n",
       "  <tbody>\n",
       "    <tr>\n",
       "      <th>0</th>\n",
       "      <td>2</td>\n",
       "      <td>1</td>\n",
       "      <td>1</td>\n",
       "      <td>1</td>\n",
       "      <td>03/05/2020</td>\n",
       "      <td>97</td>\n",
       "      <td>1</td>\n",
       "      <td>65</td>\n",
       "      <td>2</td>\n",
       "      <td>2</td>\n",
       "      <td>2</td>\n",
       "      <td>2</td>\n",
       "      <td>2</td>\n",
       "      <td>1</td>\n",
       "      <td>2</td>\n",
       "      <td>2</td>\n",
       "      <td>2</td>\n",
       "      <td>2</td>\n",
       "      <td>2</td>\n",
       "      <td>3</td>\n",
       "      <td>97</td>\n",
       "      <td>1</td>\n",
       "    </tr>\n",
       "    <tr>\n",
       "      <th>1</th>\n",
       "      <td>2</td>\n",
       "      <td>1</td>\n",
       "      <td>2</td>\n",
       "      <td>1</td>\n",
       "      <td>03/06/2020</td>\n",
       "      <td>97</td>\n",
       "      <td>1</td>\n",
       "      <td>72</td>\n",
       "      <td>2</td>\n",
       "      <td>2</td>\n",
       "      <td>2</td>\n",
       "      <td>2</td>\n",
       "      <td>2</td>\n",
       "      <td>1</td>\n",
       "      <td>2</td>\n",
       "      <td>2</td>\n",
       "      <td>1</td>\n",
       "      <td>1</td>\n",
       "      <td>2</td>\n",
       "      <td>5</td>\n",
       "      <td>97</td>\n",
       "      <td>1</td>\n",
       "    </tr>\n",
       "    <tr>\n",
       "      <th>2</th>\n",
       "      <td>2</td>\n",
       "      <td>1</td>\n",
       "      <td>2</td>\n",
       "      <td>2</td>\n",
       "      <td>09/06/2020</td>\n",
       "      <td>1</td>\n",
       "      <td>2</td>\n",
       "      <td>55</td>\n",
       "      <td>2</td>\n",
       "      <td>1</td>\n",
       "      <td>2</td>\n",
       "      <td>2</td>\n",
       "      <td>2</td>\n",
       "      <td>2</td>\n",
       "      <td>2</td>\n",
       "      <td>2</td>\n",
       "      <td>2</td>\n",
       "      <td>2</td>\n",
       "      <td>2</td>\n",
       "      <td>3</td>\n",
       "      <td>2</td>\n",
       "      <td>1</td>\n",
       "    </tr>\n",
       "    <tr>\n",
       "      <th>3</th>\n",
       "      <td>2</td>\n",
       "      <td>1</td>\n",
       "      <td>1</td>\n",
       "      <td>1</td>\n",
       "      <td>12/06/2020</td>\n",
       "      <td>97</td>\n",
       "      <td>2</td>\n",
       "      <td>53</td>\n",
       "      <td>2</td>\n",
       "      <td>2</td>\n",
       "      <td>2</td>\n",
       "      <td>2</td>\n",
       "      <td>2</td>\n",
       "      <td>2</td>\n",
       "      <td>2</td>\n",
       "      <td>2</td>\n",
       "      <td>2</td>\n",
       "      <td>2</td>\n",
       "      <td>2</td>\n",
       "      <td>7</td>\n",
       "      <td>97</td>\n",
       "      <td>1</td>\n",
       "    </tr>\n",
       "    <tr>\n",
       "      <th>4</th>\n",
       "      <td>2</td>\n",
       "      <td>1</td>\n",
       "      <td>2</td>\n",
       "      <td>1</td>\n",
       "      <td>21/06/2020</td>\n",
       "      <td>97</td>\n",
       "      <td>2</td>\n",
       "      <td>68</td>\n",
       "      <td>2</td>\n",
       "      <td>1</td>\n",
       "      <td>2</td>\n",
       "      <td>2</td>\n",
       "      <td>2</td>\n",
       "      <td>1</td>\n",
       "      <td>2</td>\n",
       "      <td>2</td>\n",
       "      <td>2</td>\n",
       "      <td>2</td>\n",
       "      <td>2</td>\n",
       "      <td>3</td>\n",
       "      <td>97</td>\n",
       "      <td>1</td>\n",
       "    </tr>\n",
       "  </tbody>\n",
       "</table>\n",
       "</div>"
      ],
      "text/plain": [
       "   USMER  MEDICAL_UNIT  SEX  PATIENT_TYPE   DATE_DIED  INTUBED  PNEUMONIA  \\\n",
       "0      2             1    1             1  03/05/2020       97          1   \n",
       "1      2             1    2             1  03/06/2020       97          1   \n",
       "2      2             1    2             2  09/06/2020        1          2   \n",
       "3      2             1    1             1  12/06/2020       97          2   \n",
       "4      2             1    2             1  21/06/2020       97          2   \n",
       "\n",
       "   AGE  PREGNANT  DIABETES  COPD  ASTHMA  INMSUPR  HIPERTENSION  \\\n",
       "0   65         2         2     2       2        2             1   \n",
       "1   72         2         2     2       2        2             1   \n",
       "2   55         2         1     2       2        2             2   \n",
       "3   53         2         2     2       2        2             2   \n",
       "4   68         2         1     2       2        2             1   \n",
       "\n",
       "   OTHER_DISEASE  CARDIOVASCULAR  OBESITY  RENAL_CHRONIC  TOBACCO  \\\n",
       "0              2               2        2              2        2   \n",
       "1              2               2        1              1        2   \n",
       "2              2               2        2              2        2   \n",
       "3              2               2        2              2        2   \n",
       "4              2               2        2              2        2   \n",
       "\n",
       "   CLASIFFICATION_FINAL  ICU  Died  \n",
       "0                     3   97     1  \n",
       "1                     5   97     1  \n",
       "2                     3    2     1  \n",
       "3                     7   97     1  \n",
       "4                     3   97     1  "
      ]
     },
     "execution_count": 20,
     "metadata": {},
     "output_type": "execute_result"
    }
   ],
   "source": [
    "df['Died']= df['DATE_DIED'].apply(get_die)\n",
    "df.head()"
   ]
  },
  {
   "cell_type": "code",
   "execution_count": 21,
   "id": "94cc3b9d",
   "metadata": {},
   "outputs": [
    {
     "data": {
      "text/plain": [
       "2    971633\n",
       "1     76942\n",
       "Name: Died, dtype: int64"
      ]
     },
     "execution_count": 21,
     "metadata": {},
     "output_type": "execute_result"
    }
   ],
   "source": [
    "# Lets count the values in the died column to make sure we got all unique values accounted for\n",
    "df['Died'].value_counts()\n",
    "# Now a new column Died as been added to df where 1:Died, 2: Did not die "
   ]
  },
  {
   "cell_type": "code",
   "execution_count": 22,
   "id": "0dc39a3b",
   "metadata": {},
   "outputs": [],
   "source": [
    "# Droping he date_died column\n",
    "df.drop(['DATE_DIED'], axis=1, inplace=True)"
   ]
  },
  {
   "cell_type": "code",
   "execution_count": 23,
   "id": "cecb8c2e",
   "metadata": {},
   "outputs": [
    {
     "data": {
      "text/html": [
       "<div>\n",
       "<style scoped>\n",
       "    .dataframe tbody tr th:only-of-type {\n",
       "        vertical-align: middle;\n",
       "    }\n",
       "\n",
       "    .dataframe tbody tr th {\n",
       "        vertical-align: top;\n",
       "    }\n",
       "\n",
       "    .dataframe thead th {\n",
       "        text-align: right;\n",
       "    }\n",
       "</style>\n",
       "<table border=\"1\" class=\"dataframe\">\n",
       "  <thead>\n",
       "    <tr style=\"text-align: right;\">\n",
       "      <th></th>\n",
       "      <th>USMER</th>\n",
       "      <th>MEDICAL_UNIT</th>\n",
       "      <th>SEX</th>\n",
       "      <th>PATIENT_TYPE</th>\n",
       "      <th>INTUBED</th>\n",
       "      <th>PNEUMONIA</th>\n",
       "      <th>AGE</th>\n",
       "      <th>PREGNANT</th>\n",
       "      <th>DIABETES</th>\n",
       "      <th>COPD</th>\n",
       "      <th>ASTHMA</th>\n",
       "      <th>INMSUPR</th>\n",
       "      <th>HIPERTENSION</th>\n",
       "      <th>OTHER_DISEASE</th>\n",
       "      <th>CARDIOVASCULAR</th>\n",
       "      <th>OBESITY</th>\n",
       "      <th>RENAL_CHRONIC</th>\n",
       "      <th>TOBACCO</th>\n",
       "      <th>CLASIFFICATION_FINAL</th>\n",
       "      <th>ICU</th>\n",
       "      <th>Died</th>\n",
       "    </tr>\n",
       "  </thead>\n",
       "  <tbody>\n",
       "    <tr>\n",
       "      <th>0</th>\n",
       "      <td>2</td>\n",
       "      <td>1</td>\n",
       "      <td>1</td>\n",
       "      <td>1</td>\n",
       "      <td>97</td>\n",
       "      <td>1</td>\n",
       "      <td>65</td>\n",
       "      <td>2</td>\n",
       "      <td>2</td>\n",
       "      <td>2</td>\n",
       "      <td>2</td>\n",
       "      <td>2</td>\n",
       "      <td>1</td>\n",
       "      <td>2</td>\n",
       "      <td>2</td>\n",
       "      <td>2</td>\n",
       "      <td>2</td>\n",
       "      <td>2</td>\n",
       "      <td>3</td>\n",
       "      <td>97</td>\n",
       "      <td>1</td>\n",
       "    </tr>\n",
       "    <tr>\n",
       "      <th>1</th>\n",
       "      <td>2</td>\n",
       "      <td>1</td>\n",
       "      <td>2</td>\n",
       "      <td>1</td>\n",
       "      <td>97</td>\n",
       "      <td>1</td>\n",
       "      <td>72</td>\n",
       "      <td>2</td>\n",
       "      <td>2</td>\n",
       "      <td>2</td>\n",
       "      <td>2</td>\n",
       "      <td>2</td>\n",
       "      <td>1</td>\n",
       "      <td>2</td>\n",
       "      <td>2</td>\n",
       "      <td>1</td>\n",
       "      <td>1</td>\n",
       "      <td>2</td>\n",
       "      <td>5</td>\n",
       "      <td>97</td>\n",
       "      <td>1</td>\n",
       "    </tr>\n",
       "    <tr>\n",
       "      <th>2</th>\n",
       "      <td>2</td>\n",
       "      <td>1</td>\n",
       "      <td>2</td>\n",
       "      <td>2</td>\n",
       "      <td>1</td>\n",
       "      <td>2</td>\n",
       "      <td>55</td>\n",
       "      <td>2</td>\n",
       "      <td>1</td>\n",
       "      <td>2</td>\n",
       "      <td>2</td>\n",
       "      <td>2</td>\n",
       "      <td>2</td>\n",
       "      <td>2</td>\n",
       "      <td>2</td>\n",
       "      <td>2</td>\n",
       "      <td>2</td>\n",
       "      <td>2</td>\n",
       "      <td>3</td>\n",
       "      <td>2</td>\n",
       "      <td>1</td>\n",
       "    </tr>\n",
       "    <tr>\n",
       "      <th>3</th>\n",
       "      <td>2</td>\n",
       "      <td>1</td>\n",
       "      <td>1</td>\n",
       "      <td>1</td>\n",
       "      <td>97</td>\n",
       "      <td>2</td>\n",
       "      <td>53</td>\n",
       "      <td>2</td>\n",
       "      <td>2</td>\n",
       "      <td>2</td>\n",
       "      <td>2</td>\n",
       "      <td>2</td>\n",
       "      <td>2</td>\n",
       "      <td>2</td>\n",
       "      <td>2</td>\n",
       "      <td>2</td>\n",
       "      <td>2</td>\n",
       "      <td>2</td>\n",
       "      <td>7</td>\n",
       "      <td>97</td>\n",
       "      <td>1</td>\n",
       "    </tr>\n",
       "    <tr>\n",
       "      <th>4</th>\n",
       "      <td>2</td>\n",
       "      <td>1</td>\n",
       "      <td>2</td>\n",
       "      <td>1</td>\n",
       "      <td>97</td>\n",
       "      <td>2</td>\n",
       "      <td>68</td>\n",
       "      <td>2</td>\n",
       "      <td>1</td>\n",
       "      <td>2</td>\n",
       "      <td>2</td>\n",
       "      <td>2</td>\n",
       "      <td>1</td>\n",
       "      <td>2</td>\n",
       "      <td>2</td>\n",
       "      <td>2</td>\n",
       "      <td>2</td>\n",
       "      <td>2</td>\n",
       "      <td>3</td>\n",
       "      <td>97</td>\n",
       "      <td>1</td>\n",
       "    </tr>\n",
       "  </tbody>\n",
       "</table>\n",
       "</div>"
      ],
      "text/plain": [
       "   USMER  MEDICAL_UNIT  SEX  PATIENT_TYPE  INTUBED  PNEUMONIA  AGE  PREGNANT  \\\n",
       "0      2             1    1             1       97          1   65         2   \n",
       "1      2             1    2             1       97          1   72         2   \n",
       "2      2             1    2             2        1          2   55         2   \n",
       "3      2             1    1             1       97          2   53         2   \n",
       "4      2             1    2             1       97          2   68         2   \n",
       "\n",
       "   DIABETES  COPD  ASTHMA  INMSUPR  HIPERTENSION  OTHER_DISEASE  \\\n",
       "0         2     2       2        2             1              2   \n",
       "1         2     2       2        2             1              2   \n",
       "2         1     2       2        2             2              2   \n",
       "3         2     2       2        2             2              2   \n",
       "4         1     2       2        2             1              2   \n",
       "\n",
       "   CARDIOVASCULAR  OBESITY  RENAL_CHRONIC  TOBACCO  CLASIFFICATION_FINAL  ICU  \\\n",
       "0               2        2              2        2                     3   97   \n",
       "1               2        1              1        2                     5   97   \n",
       "2               2        2              2        2                     3    2   \n",
       "3               2        2              2        2                     7   97   \n",
       "4               2        2              2        2                     3   97   \n",
       "\n",
       "   Died  \n",
       "0     1  \n",
       "1     1  \n",
       "2     1  \n",
       "3     1  \n",
       "4     1  "
      ]
     },
     "execution_count": 23,
     "metadata": {},
     "output_type": "execute_result"
    }
   ],
   "source": [
    "df.head()"
   ]
  },
  {
   "cell_type": "code",
   "execution_count": 24,
   "id": "b4d0ac01",
   "metadata": {},
   "outputs": [],
   "source": [
    "#INTUBED \n",
    "#df['INTUBED'].value_counts()"
   ]
  },
  {
   "cell_type": "code",
   "execution_count": 25,
   "id": "6b0261a0",
   "metadata": {},
   "outputs": [],
   "source": [
    "# Funtion to cal total null value\n",
    "#def get_null(variable):\n",
    " #   for value in variable:\n",
    "  #      total_Null= sum(variable)\n",
    "   # return total_Null\n",
    "#null_in=[848544,7325]\n",
    "#Total_Null= get_null(null_in)\n",
    "#Total_Null"
   ]
  },
  {
   "cell_type": "code",
   "execution_count": 26,
   "id": "f2184d73",
   "metadata": {},
   "outputs": [],
   "source": [
    "#n=len(df['INTUBED'])\n",
    "#n"
   ]
  },
  {
   "cell_type": "code",
   "execution_count": 27,
   "id": "faed6ded",
   "metadata": {},
   "outputs": [],
   "source": [
    "#percent_null_Intubate = (Total_Null/n)*100\n",
    "#percent_null_Intubate\n",
    "# This shows that over 81 % of the data in the Intubated variable are null values so we will drop the column to\n",
    "# Avoid introducing bias"
   ]
  },
  {
   "cell_type": "code",
   "execution_count": 28,
   "id": "c4aeb8d9",
   "metadata": {},
   "outputs": [],
   "source": [
    "#df.drop(['INTUBED'], axis=1, inplace=True)\n",
    "#df.head()"
   ]
  },
  {
   "cell_type": "code",
   "execution_count": 29,
   "id": "18e31ff5",
   "metadata": {},
   "outputs": [],
   "source": [
    "#PNEUMONIA\n",
    "#df['PNEUMONIA'].value_counts()"
   ]
  },
  {
   "cell_type": "markdown",
   "id": "13fbd20c",
   "metadata": {},
   "source": [
    "To be able to veiw all the null values at the same time, we will explicitly ask pandas to treat the 97, 99, 98 values as null values"
   ]
  },
  {
   "cell_type": "code",
   "execution_count": 30,
   "id": "0a306f53",
   "metadata": {},
   "outputs": [],
   "source": [
    "# This code explicitly tell pandas to replace the 97, 98, 99 values as NAN/missing values\n",
    "feauture=[\"INTUBED\",\"PNEUMONIA\",\"DIABETES\",\"COPD\",\"ASTHMA\",\"INMSUPR\",\"HIPERTENSION\",\"OTHER_DISEASE\",\"CARDIOVASCULAR\",\"OBESITY\",\"RENAL_CHRONIC\",\"TOBACCO\",\"ICU\"]\n",
    "for variable in feauture: \n",
    "    df[variable]=df[variable].replace([98,97,99],np.nan)"
   ]
  },
  {
   "cell_type": "code",
   "execution_count": 31,
   "id": "f0d45306",
   "metadata": {},
   "outputs": [
    {
     "data": {
      "text/html": [
       "<div>\n",
       "<style scoped>\n",
       "    .dataframe tbody tr th:only-of-type {\n",
       "        vertical-align: middle;\n",
       "    }\n",
       "\n",
       "    .dataframe tbody tr th {\n",
       "        vertical-align: top;\n",
       "    }\n",
       "\n",
       "    .dataframe thead th {\n",
       "        text-align: right;\n",
       "    }\n",
       "</style>\n",
       "<table border=\"1\" class=\"dataframe\">\n",
       "  <thead>\n",
       "    <tr style=\"text-align: right;\">\n",
       "      <th></th>\n",
       "      <th>USMER</th>\n",
       "      <th>MEDICAL_UNIT</th>\n",
       "      <th>SEX</th>\n",
       "      <th>PATIENT_TYPE</th>\n",
       "      <th>INTUBED</th>\n",
       "      <th>PNEUMONIA</th>\n",
       "      <th>AGE</th>\n",
       "      <th>PREGNANT</th>\n",
       "      <th>DIABETES</th>\n",
       "      <th>COPD</th>\n",
       "      <th>ASTHMA</th>\n",
       "      <th>INMSUPR</th>\n",
       "      <th>HIPERTENSION</th>\n",
       "      <th>OTHER_DISEASE</th>\n",
       "      <th>CARDIOVASCULAR</th>\n",
       "      <th>OBESITY</th>\n",
       "      <th>RENAL_CHRONIC</th>\n",
       "      <th>TOBACCO</th>\n",
       "      <th>CLASIFFICATION_FINAL</th>\n",
       "      <th>ICU</th>\n",
       "      <th>Died</th>\n",
       "    </tr>\n",
       "  </thead>\n",
       "  <tbody>\n",
       "    <tr>\n",
       "      <th>0</th>\n",
       "      <td>2</td>\n",
       "      <td>1</td>\n",
       "      <td>1</td>\n",
       "      <td>1</td>\n",
       "      <td>NaN</td>\n",
       "      <td>1.0</td>\n",
       "      <td>65</td>\n",
       "      <td>2</td>\n",
       "      <td>2.0</td>\n",
       "      <td>2.0</td>\n",
       "      <td>2.0</td>\n",
       "      <td>2.0</td>\n",
       "      <td>1.0</td>\n",
       "      <td>2.0</td>\n",
       "      <td>2.0</td>\n",
       "      <td>2.0</td>\n",
       "      <td>2.0</td>\n",
       "      <td>2.0</td>\n",
       "      <td>3</td>\n",
       "      <td>NaN</td>\n",
       "      <td>1</td>\n",
       "    </tr>\n",
       "    <tr>\n",
       "      <th>1</th>\n",
       "      <td>2</td>\n",
       "      <td>1</td>\n",
       "      <td>2</td>\n",
       "      <td>1</td>\n",
       "      <td>NaN</td>\n",
       "      <td>1.0</td>\n",
       "      <td>72</td>\n",
       "      <td>2</td>\n",
       "      <td>2.0</td>\n",
       "      <td>2.0</td>\n",
       "      <td>2.0</td>\n",
       "      <td>2.0</td>\n",
       "      <td>1.0</td>\n",
       "      <td>2.0</td>\n",
       "      <td>2.0</td>\n",
       "      <td>1.0</td>\n",
       "      <td>1.0</td>\n",
       "      <td>2.0</td>\n",
       "      <td>5</td>\n",
       "      <td>NaN</td>\n",
       "      <td>1</td>\n",
       "    </tr>\n",
       "    <tr>\n",
       "      <th>2</th>\n",
       "      <td>2</td>\n",
       "      <td>1</td>\n",
       "      <td>2</td>\n",
       "      <td>2</td>\n",
       "      <td>1.0</td>\n",
       "      <td>2.0</td>\n",
       "      <td>55</td>\n",
       "      <td>2</td>\n",
       "      <td>1.0</td>\n",
       "      <td>2.0</td>\n",
       "      <td>2.0</td>\n",
       "      <td>2.0</td>\n",
       "      <td>2.0</td>\n",
       "      <td>2.0</td>\n",
       "      <td>2.0</td>\n",
       "      <td>2.0</td>\n",
       "      <td>2.0</td>\n",
       "      <td>2.0</td>\n",
       "      <td>3</td>\n",
       "      <td>2.0</td>\n",
       "      <td>1</td>\n",
       "    </tr>\n",
       "    <tr>\n",
       "      <th>3</th>\n",
       "      <td>2</td>\n",
       "      <td>1</td>\n",
       "      <td>1</td>\n",
       "      <td>1</td>\n",
       "      <td>NaN</td>\n",
       "      <td>2.0</td>\n",
       "      <td>53</td>\n",
       "      <td>2</td>\n",
       "      <td>2.0</td>\n",
       "      <td>2.0</td>\n",
       "      <td>2.0</td>\n",
       "      <td>2.0</td>\n",
       "      <td>2.0</td>\n",
       "      <td>2.0</td>\n",
       "      <td>2.0</td>\n",
       "      <td>2.0</td>\n",
       "      <td>2.0</td>\n",
       "      <td>2.0</td>\n",
       "      <td>7</td>\n",
       "      <td>NaN</td>\n",
       "      <td>1</td>\n",
       "    </tr>\n",
       "    <tr>\n",
       "      <th>4</th>\n",
       "      <td>2</td>\n",
       "      <td>1</td>\n",
       "      <td>2</td>\n",
       "      <td>1</td>\n",
       "      <td>NaN</td>\n",
       "      <td>2.0</td>\n",
       "      <td>68</td>\n",
       "      <td>2</td>\n",
       "      <td>1.0</td>\n",
       "      <td>2.0</td>\n",
       "      <td>2.0</td>\n",
       "      <td>2.0</td>\n",
       "      <td>1.0</td>\n",
       "      <td>2.0</td>\n",
       "      <td>2.0</td>\n",
       "      <td>2.0</td>\n",
       "      <td>2.0</td>\n",
       "      <td>2.0</td>\n",
       "      <td>3</td>\n",
       "      <td>NaN</td>\n",
       "      <td>1</td>\n",
       "    </tr>\n",
       "  </tbody>\n",
       "</table>\n",
       "</div>"
      ],
      "text/plain": [
       "   USMER  MEDICAL_UNIT  SEX  PATIENT_TYPE  INTUBED  PNEUMONIA  AGE  PREGNANT  \\\n",
       "0      2             1    1             1      NaN        1.0   65         2   \n",
       "1      2             1    2             1      NaN        1.0   72         2   \n",
       "2      2             1    2             2      1.0        2.0   55         2   \n",
       "3      2             1    1             1      NaN        2.0   53         2   \n",
       "4      2             1    2             1      NaN        2.0   68         2   \n",
       "\n",
       "   DIABETES  COPD  ASTHMA  INMSUPR  HIPERTENSION  OTHER_DISEASE  \\\n",
       "0       2.0   2.0     2.0      2.0           1.0            2.0   \n",
       "1       2.0   2.0     2.0      2.0           1.0            2.0   \n",
       "2       1.0   2.0     2.0      2.0           2.0            2.0   \n",
       "3       2.0   2.0     2.0      2.0           2.0            2.0   \n",
       "4       1.0   2.0     2.0      2.0           1.0            2.0   \n",
       "\n",
       "   CARDIOVASCULAR  OBESITY  RENAL_CHRONIC  TOBACCO  CLASIFFICATION_FINAL  ICU  \\\n",
       "0             2.0      2.0            2.0      2.0                     3  NaN   \n",
       "1             2.0      1.0            1.0      2.0                     5  NaN   \n",
       "2             2.0      2.0            2.0      2.0                     3  2.0   \n",
       "3             2.0      2.0            2.0      2.0                     7  NaN   \n",
       "4             2.0      2.0            2.0      2.0                     3  NaN   \n",
       "\n",
       "   Died  \n",
       "0     1  \n",
       "1     1  \n",
       "2     1  \n",
       "3     1  \n",
       "4     1  "
      ]
     },
     "execution_count": 31,
     "metadata": {},
     "output_type": "execute_result"
    }
   ],
   "source": [
    "df.head()"
   ]
  },
  {
   "cell_type": "code",
   "execution_count": 32,
   "id": "fed55951",
   "metadata": {},
   "outputs": [
    {
     "data": {
      "text/plain": [
       "USMER                        0\n",
       "MEDICAL_UNIT                 0\n",
       "SEX                          0\n",
       "PATIENT_TYPE                 0\n",
       "INTUBED                 855869\n",
       "PNEUMONIA                16003\n",
       "AGE                          0\n",
       "PREGNANT                     0\n",
       "DIABETES                  3338\n",
       "COPD                      3003\n",
       "ASTHMA                    2979\n",
       "INMSUPR                   3404\n",
       "HIPERTENSION              3104\n",
       "OTHER_DISEASE             5045\n",
       "CARDIOVASCULAR            3076\n",
       "OBESITY                   3032\n",
       "RENAL_CHRONIC             3006\n",
       "TOBACCO                   3220\n",
       "CLASIFFICATION_FINAL         0\n",
       "ICU                     856032\n",
       "Died                         0\n",
       "dtype: int64"
      ]
     },
     "execution_count": 32,
     "metadata": {},
     "output_type": "execute_result"
    }
   ],
   "source": [
    "#Now we are bale to get the missing values\n",
    "df.isnull().sum()"
   ]
  },
  {
   "cell_type": "code",
   "execution_count": 33,
   "id": "9bb087ae",
   "metadata": {},
   "outputs": [
    {
     "data": {
      "text/plain": [
       "array([3, 5, 7, 6, 1, 2, 4], dtype=int64)"
      ]
     },
     "execution_count": 33,
     "metadata": {},
     "output_type": "execute_result"
    }
   ],
   "source": [
    "df.CLASIFFICATION_FINAL.unique()"
   ]
  },
  {
   "cell_type": "code",
   "execution_count": 34,
   "id": "49312e50",
   "metadata": {},
   "outputs": [],
   "source": [
    "# This code explicitly tell pandas to replace the 4, 5, 6 and 7 values as NAN/missing values\n",
    "# We are performing these replacements due that we only want the data from covid patients\n",
    "\n",
    "classifi =  ['CLASIFFICATION_FINAL']\n",
    "\n",
    "for variable in classifi: \n",
    "    df[variable]=df[variable].replace([4,5,6,7],np.nan)"
   ]
  },
  {
   "cell_type": "markdown",
   "id": "0de178a0",
   "metadata": {},
   "source": [
    "## Percentage of missing values / Column\n"
   ]
  },
  {
   "cell_type": "code",
   "execution_count": 35,
   "id": "6258f141",
   "metadata": {},
   "outputs": [
    {
     "data": {
      "text/plain": [
       "USMER                    0.000000\n",
       "MEDICAL_UNIT             0.000000\n",
       "SEX                      0.000000\n",
       "PATIENT_TYPE             0.000000\n",
       "INTUBED                 81.622106\n",
       "PNEUMONIA                1.526166\n",
       "AGE                      0.000000\n",
       "PREGNANT                 0.000000\n",
       "DIABETES                 0.318337\n",
       "COPD                     0.286389\n",
       "ASTHMA                   0.284100\n",
       "INMSUPR                  0.324631\n",
       "HIPERTENSION             0.296021\n",
       "OTHER_DISEASE            0.481129\n",
       "CARDIOVASCULAR           0.293350\n",
       "OBESITY                  0.289154\n",
       "RENAL_CHRONIC            0.286675\n",
       "TOBACCO                  0.307083\n",
       "CLASIFFICATION_FINAL    62.617934\n",
       "ICU                     81.637651\n",
       "Died                     0.000000\n",
       "dtype: float64"
      ]
     },
     "execution_count": 35,
     "metadata": {},
     "output_type": "execute_result"
    }
   ],
   "source": [
    "df.isnull().mean()*100 # Porcentage of missing data"
   ]
  },
  {
   "cell_type": "code",
   "execution_count": 36,
   "id": "4eab69c2",
   "metadata": {},
   "outputs": [],
   "source": [
    "# Since we have 2 columns with more than 81% of missing data, we will proceed to remove them \n",
    "df.drop([\"INTUBED\",\"ICU\"],axis=1, inplace=True)"
   ]
  },
  {
   "cell_type": "code",
   "execution_count": 37,
   "id": "3ea6e8a5",
   "metadata": {},
   "outputs": [
    {
     "data": {
      "text/plain": [
       "Index(['USMER', 'MEDICAL_UNIT', 'SEX', 'PATIENT_TYPE', 'PNEUMONIA', 'AGE',\n",
       "       'PREGNANT', 'DIABETES', 'COPD', 'ASTHMA', 'INMSUPR', 'HIPERTENSION',\n",
       "       'OTHER_DISEASE', 'CARDIOVASCULAR', 'OBESITY', 'RENAL_CHRONIC',\n",
       "       'TOBACCO', 'CLASIFFICATION_FINAL', 'Died'],\n",
       "      dtype='object')"
      ]
     },
     "execution_count": 37,
     "metadata": {},
     "output_type": "execute_result"
    }
   ],
   "source": [
    "df.columns"
   ]
  },
  {
   "cell_type": "code",
   "execution_count": 38,
   "id": "db0ba65f",
   "metadata": {},
   "outputs": [
    {
     "data": {
      "text/plain": [
       "(1048575, 19)"
      ]
     },
     "execution_count": 38,
     "metadata": {},
     "output_type": "execute_result"
    }
   ],
   "source": [
    "df.shape"
   ]
  },
  {
   "cell_type": "code",
   "execution_count": 39,
   "id": "f4eb3da6",
   "metadata": {},
   "outputs": [],
   "source": [
    "# Due to the size of our data set and the porcentage of missing values been nearly 0, we will continue with removing\n",
    "# every row that has a missing value\n",
    "\n",
    "df.dropna(inplace = True)"
   ]
  },
  {
   "cell_type": "code",
   "execution_count": 40,
   "id": "d89045ca",
   "metadata": {},
   "outputs": [
    {
     "data": {
      "text/plain": [
       "USMER                   0.0\n",
       "MEDICAL_UNIT            0.0\n",
       "SEX                     0.0\n",
       "PATIENT_TYPE            0.0\n",
       "PNEUMONIA               0.0\n",
       "AGE                     0.0\n",
       "PREGNANT                0.0\n",
       "DIABETES                0.0\n",
       "COPD                    0.0\n",
       "ASTHMA                  0.0\n",
       "INMSUPR                 0.0\n",
       "HIPERTENSION            0.0\n",
       "OTHER_DISEASE           0.0\n",
       "CARDIOVASCULAR          0.0\n",
       "OBESITY                 0.0\n",
       "RENAL_CHRONIC           0.0\n",
       "TOBACCO                 0.0\n",
       "CLASIFFICATION_FINAL    0.0\n",
       "Died                    0.0\n",
       "dtype: float64"
      ]
     },
     "execution_count": 40,
     "metadata": {},
     "output_type": "execute_result"
    }
   ],
   "source": [
    "df.isnull().mean()*100 # Porcentage of missing data"
   ]
  },
  {
   "cell_type": "code",
   "execution_count": 41,
   "id": "72e2cbd5",
   "metadata": {},
   "outputs": [
    {
     "data": {
      "text/plain": [
       "(388878, 19)"
      ]
     },
     "execution_count": 41,
     "metadata": {},
     "output_type": "execute_result"
    }
   ],
   "source": [
    "df.shape"
   ]
  },
  {
   "cell_type": "code",
   "execution_count": 42,
   "id": "6c7156d1",
   "metadata": {},
   "outputs": [
    {
     "data": {
      "text/html": [
       "<div>\n",
       "<style scoped>\n",
       "    .dataframe tbody tr th:only-of-type {\n",
       "        vertical-align: middle;\n",
       "    }\n",
       "\n",
       "    .dataframe tbody tr th {\n",
       "        vertical-align: top;\n",
       "    }\n",
       "\n",
       "    .dataframe thead th {\n",
       "        text-align: right;\n",
       "    }\n",
       "</style>\n",
       "<table border=\"1\" class=\"dataframe\">\n",
       "  <thead>\n",
       "    <tr style=\"text-align: right;\">\n",
       "      <th></th>\n",
       "      <th>USMER</th>\n",
       "      <th>MEDICAL_UNIT</th>\n",
       "      <th>SEX</th>\n",
       "      <th>PATIENT_TYPE</th>\n",
       "      <th>PNEUMONIA</th>\n",
       "      <th>AGE</th>\n",
       "      <th>PREGNANT</th>\n",
       "      <th>DIABETES</th>\n",
       "      <th>COPD</th>\n",
       "      <th>ASTHMA</th>\n",
       "      <th>INMSUPR</th>\n",
       "      <th>HIPERTENSION</th>\n",
       "      <th>OTHER_DISEASE</th>\n",
       "      <th>CARDIOVASCULAR</th>\n",
       "      <th>OBESITY</th>\n",
       "      <th>RENAL_CHRONIC</th>\n",
       "      <th>TOBACCO</th>\n",
       "      <th>CLASIFFICATION_FINAL</th>\n",
       "      <th>Died</th>\n",
       "    </tr>\n",
       "  </thead>\n",
       "  <tbody>\n",
       "    <tr>\n",
       "      <th>0</th>\n",
       "      <td>2</td>\n",
       "      <td>1</td>\n",
       "      <td>1</td>\n",
       "      <td>1</td>\n",
       "      <td>1.0</td>\n",
       "      <td>65</td>\n",
       "      <td>2</td>\n",
       "      <td>2.0</td>\n",
       "      <td>2.0</td>\n",
       "      <td>2.0</td>\n",
       "      <td>2.0</td>\n",
       "      <td>1.0</td>\n",
       "      <td>2.0</td>\n",
       "      <td>2.0</td>\n",
       "      <td>2.0</td>\n",
       "      <td>2.0</td>\n",
       "      <td>2.0</td>\n",
       "      <td>3.0</td>\n",
       "      <td>1</td>\n",
       "    </tr>\n",
       "    <tr>\n",
       "      <th>2</th>\n",
       "      <td>2</td>\n",
       "      <td>1</td>\n",
       "      <td>2</td>\n",
       "      <td>2</td>\n",
       "      <td>2.0</td>\n",
       "      <td>55</td>\n",
       "      <td>2</td>\n",
       "      <td>1.0</td>\n",
       "      <td>2.0</td>\n",
       "      <td>2.0</td>\n",
       "      <td>2.0</td>\n",
       "      <td>2.0</td>\n",
       "      <td>2.0</td>\n",
       "      <td>2.0</td>\n",
       "      <td>2.0</td>\n",
       "      <td>2.0</td>\n",
       "      <td>2.0</td>\n",
       "      <td>3.0</td>\n",
       "      <td>1</td>\n",
       "    </tr>\n",
       "    <tr>\n",
       "      <th>4</th>\n",
       "      <td>2</td>\n",
       "      <td>1</td>\n",
       "      <td>2</td>\n",
       "      <td>1</td>\n",
       "      <td>2.0</td>\n",
       "      <td>68</td>\n",
       "      <td>2</td>\n",
       "      <td>1.0</td>\n",
       "      <td>2.0</td>\n",
       "      <td>2.0</td>\n",
       "      <td>2.0</td>\n",
       "      <td>1.0</td>\n",
       "      <td>2.0</td>\n",
       "      <td>2.0</td>\n",
       "      <td>2.0</td>\n",
       "      <td>2.0</td>\n",
       "      <td>2.0</td>\n",
       "      <td>3.0</td>\n",
       "      <td>1</td>\n",
       "    </tr>\n",
       "    <tr>\n",
       "      <th>5</th>\n",
       "      <td>2</td>\n",
       "      <td>1</td>\n",
       "      <td>1</td>\n",
       "      <td>2</td>\n",
       "      <td>1.0</td>\n",
       "      <td>40</td>\n",
       "      <td>2</td>\n",
       "      <td>2.0</td>\n",
       "      <td>2.0</td>\n",
       "      <td>2.0</td>\n",
       "      <td>2.0</td>\n",
       "      <td>2.0</td>\n",
       "      <td>2.0</td>\n",
       "      <td>2.0</td>\n",
       "      <td>2.0</td>\n",
       "      <td>2.0</td>\n",
       "      <td>2.0</td>\n",
       "      <td>3.0</td>\n",
       "      <td>2</td>\n",
       "    </tr>\n",
       "    <tr>\n",
       "      <th>6</th>\n",
       "      <td>2</td>\n",
       "      <td>1</td>\n",
       "      <td>1</td>\n",
       "      <td>1</td>\n",
       "      <td>2.0</td>\n",
       "      <td>64</td>\n",
       "      <td>2</td>\n",
       "      <td>2.0</td>\n",
       "      <td>2.0</td>\n",
       "      <td>2.0</td>\n",
       "      <td>2.0</td>\n",
       "      <td>2.0</td>\n",
       "      <td>2.0</td>\n",
       "      <td>2.0</td>\n",
       "      <td>2.0</td>\n",
       "      <td>2.0</td>\n",
       "      <td>2.0</td>\n",
       "      <td>3.0</td>\n",
       "      <td>2</td>\n",
       "    </tr>\n",
       "  </tbody>\n",
       "</table>\n",
       "</div>"
      ],
      "text/plain": [
       "   USMER  MEDICAL_UNIT  SEX  PATIENT_TYPE  PNEUMONIA  AGE  PREGNANT  DIABETES  \\\n",
       "0      2             1    1             1        1.0   65         2       2.0   \n",
       "2      2             1    2             2        2.0   55         2       1.0   \n",
       "4      2             1    2             1        2.0   68         2       1.0   \n",
       "5      2             1    1             2        1.0   40         2       2.0   \n",
       "6      2             1    1             1        2.0   64         2       2.0   \n",
       "\n",
       "   COPD  ASTHMA  INMSUPR  HIPERTENSION  OTHER_DISEASE  CARDIOVASCULAR  \\\n",
       "0   2.0     2.0      2.0           1.0            2.0             2.0   \n",
       "2   2.0     2.0      2.0           2.0            2.0             2.0   \n",
       "4   2.0     2.0      2.0           1.0            2.0             2.0   \n",
       "5   2.0     2.0      2.0           2.0            2.0             2.0   \n",
       "6   2.0     2.0      2.0           2.0            2.0             2.0   \n",
       "\n",
       "   OBESITY  RENAL_CHRONIC  TOBACCO  CLASIFFICATION_FINAL  Died  \n",
       "0      2.0            2.0      2.0                   3.0     1  \n",
       "2      2.0            2.0      2.0                   3.0     1  \n",
       "4      2.0            2.0      2.0                   3.0     1  \n",
       "5      2.0            2.0      2.0                   3.0     2  \n",
       "6      2.0            2.0      2.0                   3.0     2  "
      ]
     },
     "execution_count": 42,
     "metadata": {},
     "output_type": "execute_result"
    }
   ],
   "source": [
    "df.head()"
   ]
  },
  {
   "cell_type": "code",
   "execution_count": 43,
   "id": "5259668c",
   "metadata": {},
   "outputs": [
    {
     "data": {
      "text/plain": [
       "USMER                     int64\n",
       "MEDICAL_UNIT              int64\n",
       "SEX                       int64\n",
       "PATIENT_TYPE              int64\n",
       "PNEUMONIA               float64\n",
       "AGE                       int64\n",
       "PREGNANT                  int64\n",
       "DIABETES                float64\n",
       "COPD                    float64\n",
       "ASTHMA                  float64\n",
       "INMSUPR                 float64\n",
       "HIPERTENSION            float64\n",
       "OTHER_DISEASE           float64\n",
       "CARDIOVASCULAR          float64\n",
       "OBESITY                 float64\n",
       "RENAL_CHRONIC           float64\n",
       "TOBACCO                 float64\n",
       "CLASIFFICATION_FINAL    float64\n",
       "Died                      int64\n",
       "dtype: object"
      ]
     },
     "execution_count": 43,
     "metadata": {},
     "output_type": "execute_result"
    }
   ],
   "source": [
    "df.dtypes # Check our data types"
   ]
  },
  {
   "cell_type": "code",
   "execution_count": 44,
   "id": "3d38c1ff",
   "metadata": {},
   "outputs": [],
   "source": [
    "# Since our features are categorical, we will assign them as integers\n",
    "df['PNEUMONIA'] = df['PNEUMONIA'].astype(int)\n",
    "df['DIABETES'] = df['DIABETES'].astype(int)\n",
    "df['COPD'] = df['COPD'].astype(int)\n",
    "df['ASTHMA'] = df['ASTHMA'].astype(int)\n",
    "df['INMSUPR'] = df['INMSUPR'].astype(int)\n",
    "df['HIPERTENSION'] = df['HIPERTENSION'].astype(int)\n",
    "df['OTHER_DISEASE'] = df['OTHER_DISEASE'].astype(int)\n",
    "df['CARDIOVASCULAR'] = df['CARDIOVASCULAR'].astype(int)\n",
    "df['OBESITY'] = df['OBESITY'].astype(int)\n",
    "df['RENAL_CHRONIC'] = df['RENAL_CHRONIC'].astype(int)\n",
    "df['TOBACCO'] = df['TOBACCO'].astype(int)\n",
    "df['CLASIFFICATION_FINAL'] = df['CLASIFFICATION_FINAL'].astype(int)"
   ]
  },
  {
   "cell_type": "code",
   "execution_count": 45,
   "id": "49ce65d0",
   "metadata": {},
   "outputs": [
    {
     "data": {
      "text/plain": [
       "USMER                   int64\n",
       "MEDICAL_UNIT            int64\n",
       "SEX                     int64\n",
       "PATIENT_TYPE            int64\n",
       "PNEUMONIA               int32\n",
       "AGE                     int64\n",
       "PREGNANT                int64\n",
       "DIABETES                int32\n",
       "COPD                    int32\n",
       "ASTHMA                  int32\n",
       "INMSUPR                 int32\n",
       "HIPERTENSION            int32\n",
       "OTHER_DISEASE           int32\n",
       "CARDIOVASCULAR          int32\n",
       "OBESITY                 int32\n",
       "RENAL_CHRONIC           int32\n",
       "TOBACCO                 int32\n",
       "CLASIFFICATION_FINAL    int32\n",
       "Died                    int64\n",
       "dtype: object"
      ]
     },
     "execution_count": 45,
     "metadata": {},
     "output_type": "execute_result"
    }
   ],
   "source": [
    "df.dtypes"
   ]
  },
  {
   "cell_type": "code",
   "execution_count": null,
   "id": "47e4aafa",
   "metadata": {},
   "outputs": [],
   "source": []
  }
 ],
 "metadata": {
  "kernelspec": {
   "display_name": "Python 3 (ipykernel)",
   "language": "python",
   "name": "python3"
  },
  "language_info": {
   "codemirror_mode": {
    "name": "ipython",
    "version": 3
   },
   "file_extension": ".py",
   "mimetype": "text/x-python",
   "name": "python",
   "nbconvert_exporter": "python",
   "pygments_lexer": "ipython3",
   "version": "3.11.4"
  }
 },
 "nbformat": 4,
 "nbformat_minor": 5
}
